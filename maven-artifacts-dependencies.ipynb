{
 "cells": [
  {
   "cell_type": "code",
   "execution_count": 1,
   "metadata": {},
   "outputs": [
    {
     "name": "stdout",
     "output_type": "stream",
     "text": [
      "--- 9.19 seconds ---\nread 340913 nodes\n"
     ]
    }
   ],
   "source": [
    "import networkx as nx\n",
    "import json\n",
    "from base64 import b64decode\n",
    "import time\n",
    "\n",
    "start_time = time.time()\n",
    "data = []\n",
    "with open('C:/studia/TASS/maven-artifacts-dependencies-analysis/data/mvn-deps-fixed.csv', 'r') as file:\n",
    "    i = 0\n",
    "    for line in file:\n",
    "        i += 1\n",
    "        artifactId, groupId, version, deps = line.split('\\t')\n",
    "        deps = json.loads(b64decode(deps))\n",
    "        data += [(artifactId, groupId, version, deps)]\n",
    "print(\"--- {0:.2f} seconds ---\".format(time.time() - start_time))\n",
    "print(\"read \" + str(i) + \" nodes\")"
   ]
  },
  {
   "cell_type": "code",
   "execution_count": 3,
   "metadata": {},
   "outputs": [
    {
     "name": "stdout",
     "output_type": "stream",
     "text": [
      "--- 16.32 seconds ---\nGraph has been created.\nDuplicated 234877 nodes defined as lines in file.\nCreated 97593 nodes from dependencies definitions.\nDuplicated 712700 edges.\nIn the file there were 340913 nodes and 1941810 edges and some of them were duplicated\nCreated graph has 203629 nodes and 1229110 edges.\nThe difference between number of nodes in file (340913) and number of nodes in created graph (203629) equals 137284. Is it equal to (number of duplicated nodes (234877) minus number of nodes created from dependencies (97593) [137284])? True\nThe difference between number of edges in file (1941810) and number of edges in created graph (1229110) equals 712700. Is it equal to number of duplicated edges (712700)? True\n"
     ]
    }
   ],
   "source": [
    "i, j, m, n, o = (0,)*5\n",
    "\n",
    "start_time = time.time()\n",
    "G = nx.Graph()\n",
    "for d in data:\n",
    "    i += 1\n",
    "    artifactId, groupId, version, deps = d\n",
    "    if G.has_node(\"{}_{}_{}\".format(artifactId, groupId, version)):\n",
    "        m += 1\n",
    "    G.add_node(\"{}_{}_{}\".format(artifactId, groupId, version))\n",
    "    for dep in deps:\n",
    "        j += 1\n",
    "        if not G.has_node(\"{}_{}_{}\".format(dep[\"artifactid\"], dep[\"groupid\"], dep[\"version\"])):\n",
    "            o += 1\n",
    "        if G.has_edge(\"{}_{}_{}\".format(artifactId, groupId, version),\n",
    "                      \"{}_{}_{}\".format(dep[\"artifactid\"], dep[\"groupid\"], dep[\"version\"])):\n",
    "            n += 1\n",
    "        G.add_edge(\"{}_{}_{}\".format(artifactId, groupId, version),\n",
    "                   \"{}_{}_{}\".format(dep[\"artifactid\"], dep[\"groupid\"], dep[\"version\"]))\n",
    "print(\"--- {0:.2f} seconds ---\".format(time.time() - start_time))\n",
    "\n",
    "print(\"Graph has been created.\")  \n",
    "#nx.write_pajek(G, 'data/mvn-deps.net')\n",
    "#print(\"Graph has been exported to Pajek format (data/mvn-deps.net).\")  \n",
    "\n",
    "G_size = G.size()\n",
    "G_order = G.order()\n",
    "\n",
    "print(\"Duplicated \" + str(m) + \" nodes defined as lines in file.\")\n",
    "print(\"Created \" + str(o) + \" nodes from dependencies definitions.\")\n",
    "print(\"Duplicated \" + str(n) + \" edges.\")\n",
    "print(\"In the file there were \" + str(i) + \" nodes and \" + str(j) + \n",
    "      \" edges and some of them were duplicated\")\n",
    "print(\"Created graph has \" + str(G_order) + \" nodes and \" + str(G_size) + \" edges.\")\n",
    "print(\"The difference between number of nodes in file (\" + str(i) + \n",
    "      \") and number of nodes in created graph (\" + str(G_order) + \") equals \" + str(i - G_order) + \n",
    "      \". Is it equal to (number of duplicated nodes (\" + str(m) + \n",
    "      \") minus number of nodes created from dependencies (\" + str(o) + \") [\" + \n",
    "      str(m - o) + \"])? \" + str((i-G_order) == (m-o)))\n",
    "print(\"The difference between number of edges in file (\" + str(j) + \n",
    "      \") and number of edges in created graph (\" + str(G_size) + \") equals \" + str(j - G_size) + \n",
    "      \". Is it equal to number of duplicated edges (\" + str(n) + \")? \" + str((j-G_size) == n))"
   ]
  },
  {
   "cell_type": "code",
   "execution_count": 4,
   "metadata": {},
   "outputs": [
    {
     "name": "stdout",
     "output_type": "stream",
     "text": [
      "Is graph connected? False\n"
     ]
    },
    {
     "name": "stdout",
     "output_type": "stream",
     "text": [
      "The graph has 21495 connected components\n"
     ]
    },
    {
     "name": "stdout",
     "output_type": "stream",
     "text": [
      "--- 16.07 seconds ---\nLargest connected component order (number of nodes): 176408 (0.866 of whole graph)\nLargest connected component size (number of edges): 1219622 (0.992 of whole graph)\n"
     ]
    }
   ],
   "source": [
    "print(\"Is graph connected? \" + str(nx.is_connected(G)))\n",
    "start_time = time.time()\n",
    "n = nx.number_connected_components(G)\n",
    "print(\"The graph has \" + str(n) + \" connected components\")\n",
    "largest_cc = max(nx.connected_component_subgraphs(G), key=len)\n",
    "largest_cc_size = largest_cc.size()\n",
    "largest_cc_order = largest_cc.order()\n",
    "print(\"--- {0:.2f} seconds ---\".format(time.time() - start_time))\n",
    "print((\"Largest connected component order (number of nodes): \" + str(largest_cc_order) + \n",
    "      \" ({0:.3f} of whole graph)\").format(largest_cc_order / G_order))\n",
    "print(\"Largest connected component size (number of edges): \" + str(largest_cc_size) + \n",
    "      \" ({0:.3f} of whole graph)\".format(largest_cc_size / G_size))"
   ]
  },
  {
   "cell_type": "code",
   "execution_count": 16,
   "metadata": {
    "collapsed": false
   },
   "outputs": [
    {
     "name": "stdout",
     "output_type": "stream",
     "text": [
      "Done.\n--- 0.05 seconds ---\n"
     ]
    }
   ],
   "source": [
    "import scipy as sp\n",
    "start_time = time.time()\n",
    "print(\"{0:.3f}\".format(nx.degree_pearson_correlation_coefficient(largest_cc)))\n",
    "print(\"--- {0:.2f} seconds ---\".format(time.time() - start_time))\n",
    "xy = nx.node_degree_xy(largest_cc)\n",
    "x, y = zip(*xy)\n",
    "avg_deg_conn = nx.average_degree_connectivity(largest_cc)\n",
    "avg_neighbor_degree = nx.average_neighbor_degree(largest_cc)"
   ]
  },
  {
   "cell_type": "code",
   "execution_count": null,
   "metadata": {
    "collapsed": false
   },
   "outputs": [
    {
     "name": "stdout",
     "output_type": "stream",
     "text": [
      "Done.\n--- 0.05 seconds ---\n"
     ]
    }
   ],
   "source": [
    "import matplotlib.pyplot as plt\n",
    "\n",
    "fig = plt.figure(figsize=(5, 5))\n",
    "plt.plot(x, y, '.', alpha=0.2)\n",
    "plt.xlabel('Stopień wierzchołka')\n",
    "plt.ylabel('Średni stopień wierzchołków sąsiadujących')\n",
    "plt.show()"
   ]
  },
  {
   "cell_type": "code",
   "execution_count": 82,
   "metadata": {
    "collapsed": false
   },
   "outputs": [
    {
     "name": "stdout",
     "output_type": "stream",
     "text": [
      "Done.\n--- 0.05 seconds ---\n"
     ]
    }
   ],
   "source": [
    "start_time = time.time()\n",
    "avg_neighbors_degrees = []\n",
    "for node_name, avg_degree in avg_neighbor_degree.items():\n",
    "    avg_neighbors_degrees.append((largest_cc.degree(node_name), avg_degree))\n",
    "node_deg, neighbors_avg_deg = zip(*avg_neighbors_degrees)\n",
    "print(\"Done.\")\n",
    "print(\"--- {0:.2f} seconds ---\".format(time.time() - start_time))"
   ]
  },
  {
   "cell_type": "code",
   "execution_count": 83,
   "metadata": {
    "collapsed": false
   },
   "outputs": [
    {
     "name": "stdout",
     "output_type": "stream",
     "text": [
      "Done.\n--- 0.05 seconds ---\n"
     ]
    }
   ],
   "source": [
    "from math import log10\n",
    "start_time = time.time()\n",
    "x_deg_log = list(map(log10, node_deg))\n",
    "y_avg_log = list(map(log10, neighbors_avg_deg))\n",
    "print(\"Done.\")\n",
    "print(\"--- {0:.2f} seconds ---\".format(time.time() - start_time))"
   ]
  },
  {
   "cell_type": "code",
   "execution_count": 88,
   "metadata": {
    "collapsed": true
   },
   "outputs": [
    {
     "name": "stdout",
     "output_type": "stream",
     "text": [
      "Coefficient: 0.336; intercept: 0.336\n--- 0.03 seconds ---\n"
     ]
    },
    {
     "data": {
      "image/png": "[encoded data removed]",
      "text/plain": [
       "<matplotlib.figure.Figure at 0x25ff93e05f8>"
      ]
     },
     "metadata": {},
     "output_type": "display_data"
    }
   ],
   "source": [
    "from scipy import stats\n",
    "\n",
    "start_time = time.time()\n",
    "slope, intercept, r_value, p_value, std_err = stats.linregress(x_deg_log, y_avg_log)\n",
    "print(\"Coefficient: {0:.3f}; intercept: {0:.3f}\".format(slope, intercept))\n",
    "print(\"--- {0:.2f} seconds ---\".format(time.time() - start_time))\n",
    "\n",
    "x_reg = []\n",
    "y_reg = []\n",
    "x_reg.append(1)\n",
    "x_reg.append(10**4)\n",
    "y_reg.append(x_reg[0]**slope * 10**intercept)\n",
    "y_reg.append(x_reg[1]**slope * 10**intercept)\n",
    "fig = plt.figure(figsize=(5, 5))\n",
    "plt.loglog(x_reg, y_reg, 'r-')\n",
    "plt.loglog(node_deg, neighbors_avg_deg, 'b.', alpha=0.05,)\n",
    "plt.xlabel('Stopień wierzchołka')\n",
    "plt.ylabel('Średni stopień wierzchołków sąsiadujących')\n",
    "plt.show()"
   ]
  },
  {
   "cell_type": "code",
   "execution_count": null,
   "metadata": {},
   "outputs": [],
   "source": []
  }
 ],
 "metadata": {
  "kernelspec": {
   "display_name": "Python 3",
   "language": "python",
   "name": "python3"
  },
  "language_info": {
   "codemirror_mode": {
    "name": "ipython",
    "version": 3
   },
   "file_extension": ".py",
   "mimetype": "text/x-python",
   "name": "python",
   "nbconvert_exporter": "python",
   "pygments_lexer": "ipython3",
   "version": "3.6.1"
  }
 },
 "nbformat": 4,
 "nbformat_minor": 1
}

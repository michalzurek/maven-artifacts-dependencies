{
 "cells": [
  {
   "cell_type": "code",
   "execution_count": 2,
   "metadata": {
    "collapsed": false
   },
   "outputs": [
    {
     "name": "stdout",
     "output_type": "stream",
     "text": [
      "read 340913 nodes\n"
     ]
    }
   ],
   "source": [
    "import networkx as nx\n",
    "import json\n",
    "from base64 import b64decode\n",
    "\n",
    "data = []\n",
    "with open('C:/studia/TASS/projekt1/data/mvn-deps-fixed.csv', 'r') as file:\n",
    "    i = 0\n",
    "    for line in file:\n",
    "        i += 1\n",
    "        artifactId, groupId, version, deps = line.split('\\t')\n",
    "        deps = json.loads(b64decode(deps))\n",
    "        data += [(artifactId, groupId, version, deps)]\n",
    "print(\"read \" + str(i) + \" nodes\")"
   ]
  },
  {
   "cell_type": "code",
   "execution_count": 42,
   "metadata": {},
   "outputs": [
    {
     "name": "stdout",
     "output_type": "stream",
     "text": [
      "Graph has been created.\nDuplicated 234877 nodes defined as lines in file.\nCreated 97593 nodes from dependencies definitions.\nDuplicated 712700 edges.\nIn the file there were 340913 nodes and 1941810 edges and some of them were duplicated\nCreated graph has 203629 nodes and 1229110 edges.\nThe difference between number of nodes in file (340913) and number of nodes in created graph (203629) equals 137284. Is it equal to (number of duplicated nodes (234877) minus number of nodes created from dependencies (97593) [137284])? True\nThe difference between number of edges in file (1941810) and number of edges in created graph (1229110) equals 712700. Is it equal to number of duplicated edges (712700)? True\n"
     ]
    }
   ],
   "source": [
    "G = nx.Graph()\n",
    "i = 0\n",
    "j = 0\n",
    "m = 0\n",
    "n = 0\n",
    "o = 0\n",
    "\n",
    "for d in data:\n",
    "    i += 1\n",
    "    artifactId, groupId, version, deps = d\n",
    "    if G.has_node(\"{}_{}_{}\".format(artifactId, groupId, version)):\n",
    "        m += 1\n",
    "    G.add_node(\"{}_{}_{}\".format(artifactId, groupId, version))\n",
    "    for dep in deps:\n",
    "        j += 1\n",
    "        if not G.has_node(\"{}_{}_{}\".format(dep[\"artifactid\"], dep[\"groupid\"], dep[\"version\"])):\n",
    "            o += 1\n",
    "        if G.has_edge(\"{}_{}_{}\".format(artifactId, groupId, version),\n",
    "                      \"{}_{}_{}\".format(dep[\"artifactid\"], dep[\"groupid\"], dep[\"version\"])):\n",
    "            n += 1\n",
    "        G.add_edge(\"{}_{}_{}\".format(artifactId, groupId, version),\n",
    "                   \"{}_{}_{}\".format(dep[\"artifactid\"], dep[\"groupid\"], dep[\"version\"]))\n",
    "\n",
    "G_size = G.size()\n",
    "G_order = G.order()\n",
    "print(\"Graph has been created.\")    \n",
    "print(\"Duplicated \" + str(m) + \" nodes defined as lines in file.\")\n",
    "print(\"Created \" + str(o) + \" nodes from dependencies definitions.\")\n",
    "print(\"Duplicated \" + str(n) + \" edges.\")\n",
    "print(\"In the file there were \" + str(i) + \" nodes and \" + str(j) + \n",
    "      \" edges and some of them were duplicated\")\n",
    "print(\"Created graph has \" + str(G_order) + \" nodes and \" + str(G_size) + \" edges.\")\n",
    "print(\"The difference between number of nodes in file (\" + str(i) + \n",
    "      \") and number of nodes in created graph (\" + str(G_order) + \") equals \" + str(i - G_order) + \n",
    "      \". Is it equal to (number of duplicated nodes (\" + str(m) + \n",
    "      \") minus number of nodes created from dependencies (\" + str(o) + \") [\" + \n",
    "      str(m - o) + \"])? \" + str((i-G_order) == (m-o)))\n",
    "print(\"The difference between number of edges in file (\" + str(j) + \n",
    "      \") and number of edges in created graph (\" + str(G_size) + \") equals \" + str(j - G_size) + \n",
    "      \". Is it equal to number of duplicated edges (\" + str(n) + \")? \" + str((j-G_size) == n))"
   ]
  },
  {
   "cell_type": "code",
   "execution_count": null,
   "metadata": {},
   "outputs": [
    {
     "name": "stdout",
     "output_type": "stream",
     "text": [
      "Is graph connected? False\n"
     ]
    },
    {
     "name": "stdout",
     "output_type": "stream",
     "text": [
      "The graph has 21495 connected components\n"
     ]
    },
    {
     "name": "stdout",
     "output_type": "stream",
     "text": [
      "203629\n176408\nLargest connected component order (number of nodes): 176408(0.8663206124864337 of whole graph)\nLargest connected component size (number of edges): 1219622(0.9922805932748086 of whole graph)\n"
     ]
    }
   ],
   "source": [
    "print(\"Is graph connected? \" + str(nx.is_connected(G)))\n",
    "n = nx.number_connected_components(G)\n",
    "print(\"The graph has \" + str(n) + \" connected components\")\n",
    "largest_cc = max(nx.connected_component_subgraphs(G), key=len)\n",
    "print(len(G))\n",
    "print(len(largest_cc))\n",
    "largest_cc_size = largest_cc.size()\n",
    "largest_cc_order = largest_cc.order()\n",
    "print(\"Largest connected component order (number of nodes): \" + str(largest_cc_order) + \n",
    "      \"(\" + str(largest_cc_order / G_order) + \" of whole graph)\")\n",
    "print(\"Largest connected component size (number of edges): \" + str(largest_cc_size) + \n",
    "      \"(\" + str(largest_cc_size / G_size) + \" of whole graph)\")"
   ]
  },
  {
   "cell_type": "code",
   "execution_count": null,
   "metadata": {},
   "outputs": [],
   "source": []
  }
 ],
 "metadata": {
  "kernelspec": {
   "display_name": "Python 2",
   "language": "python",
   "name": "python2"
  },
  "language_info": {
   "codemirror_mode": {
    "name": "ipython",
    "version": 2
   },
   "file_extension": ".py",
   "mimetype": "text/x-python",
   "name": "python",
   "nbconvert_exporter": "python",
   "pygments_lexer": "ipython2",
   "version": "2.7.6"
  }
 },
 "nbformat": 4,
 "nbformat_minor": 0
}

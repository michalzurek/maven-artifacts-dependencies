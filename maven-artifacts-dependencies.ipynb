{
 "cells": [
  {
   "cell_type": "code",
   "execution_count": 3,
   "metadata": {
    "collapsed": false
   },
   "outputs": [
    {
     "name": "stdout",
     "output_type": "stream",
     "text": [
      "read 340913 nodes\n"
     ]
    }
   ],
   "source": [
    "import networkx as nx\n",
    "import json\n",
    "from base64 import b64decode\n",
    "\n",
    "data = []\n",
    "with open('C:/studia/TASS/maven-artifacts-dependencies-analysis/data/mvn-deps-fixed.csv', 'r') as file:\n",
    "    i = 0\n",
    "    for line in file:\n",
    "        i += 1\n",
    "        artifactId, groupId, version, deps = line.split('\\t')\n",
    "        deps = json.loads(b64decode(deps))\n",
    "        data += [(artifactId, groupId, version, deps)]\n",
    "print(\"read \" + str(i) + \" nodes\")"
   ]
  },
  {
   "cell_type": "code",
   "execution_count": 4,
   "metadata": {},
   "outputs": [
    {
     "name": "stdout",
     "output_type": "stream",
     "text": [
      "Graph has been created.\nDuplicated 234877 nodes defined as lines in file.\nCreated 97593 nodes from dependencies definitions.\nDuplicated 712700 edges.\nIn the file there were 340913 nodes and 1941810 edges and some of them were duplicated\nCreated graph has 203629 nodes and 1229110 edges.\nThe difference between number of nodes in file (340913) and number of nodes in created graph (203629) equals 137284. Is it equal to (number of duplicated nodes (234877) minus number of nodes created from dependencies (97593) [137284])? True\nThe difference between number of edges in file (1941810) and number of edges in created graph (1229110) equals 712700. Is it equal to number of duplicated edges (712700)? True\n"
     ]
    }
   ],
   "source": [
    "G = nx.Graph()\n",
    "i = 0\n",
    "j = 0\n",
    "m = 0\n",
    "n = 0\n",
    "o = 0\n",
    "\n",
    "for d in data:\n",
    "    i += 1\n",
    "    artifactId, groupId, version, deps = d\n",
    "    if G.has_node(\"{}_{}_{}\".format(artifactId, groupId, version)):\n",
    "        m += 1\n",
    "    G.add_node(\"{}_{}_{}\".format(artifactId, groupId, version))\n",
    "    for dep in deps:\n",
    "        j += 1\n",
    "        if not G.has_node(\"{}_{}_{}\".format(dep[\"artifactid\"], dep[\"groupid\"], dep[\"version\"])):\n",
    "            o += 1\n",
    "        if G.has_edge(\"{}_{}_{}\".format(artifactId, groupId, version),\n",
    "                      \"{}_{}_{}\".format(dep[\"artifactid\"], dep[\"groupid\"], dep[\"version\"])):\n",
    "            n += 1\n",
    "        G.add_edge(\"{}_{}_{}\".format(artifactId, groupId, version),\n",
    "                   \"{}_{}_{}\".format(dep[\"artifactid\"], dep[\"groupid\"], dep[\"version\"]))\n",
    "\n",
    "G_size = G.size()\n",
    "G_order = G.order()\n",
    "print(\"Graph has been created.\")    \n",
    "print(\"Duplicated \" + str(m) + \" nodes defined as lines in file.\")\n",
    "print(\"Created \" + str(o) + \" nodes from dependencies definitions.\")\n",
    "print(\"Duplicated \" + str(n) + \" edges.\")\n",
    "print(\"In the file there were \" + str(i) + \" nodes and \" + str(j) + \n",
    "      \" edges and some of them were duplicated\")\n",
    "print(\"Created graph has \" + str(G_order) + \" nodes and \" + str(G_size) + \" edges.\")\n",
    "print(\"The difference between number of nodes in file (\" + str(i) + \n",
    "      \") and number of nodes in created graph (\" + str(G_order) + \") equals \" + str(i - G_order) + \n",
    "      \". Is it equal to (number of duplicated nodes (\" + str(m) + \n",
    "      \") minus number of nodes created from dependencies (\" + str(o) + \") [\" + \n",
    "      str(m - o) + \"])? \" + str((i-G_order) == (m-o)))\n",
    "print(\"The difference between number of edges in file (\" + str(j) + \n",
    "      \") and number of edges in created graph (\" + str(G_size) + \") equals \" + str(j - G_size) + \n",
    "      \". Is it equal to number of duplicated edges (\" + str(n) + \")? \" + str((j-G_size) == n))"
   ]
  },
  {
   "cell_type": "code",
   "execution_count": 6,
   "metadata": {},
   "outputs": [
    {
     "name": "stdout",
     "output_type": "stream",
     "text": [
      "Is graph connected? False\n"
     ]
    },
    {
     "name": "stdout",
     "output_type": "stream",
     "text": [
      "The graph has 21495 connected components\n"
     ]
    },
    {
     "name": "stdout",
     "output_type": "stream",
     "text": [
      "203629\n176408\nLargest connected component order (number of nodes): 176408 (0.866 of whole graph)\nLargest connected component size (number of edges): 1219622 (0.992 of whole graph)\n"
     ]
    }
   ],
   "source": [
    "print(\"Is graph connected? \" + str(nx.is_connected(G)))\n",
    "n = nx.number_connected_components(G)\n",
    "print(\"The graph has \" + str(n) + \" connected components\")\n",
    "largest_cc = max(nx.connected_component_subgraphs(G), key=len)\n",
    "print(len(G))\n",
    "print(len(largest_cc))\n",
    "largest_cc_size = largest_cc.size()\n",
    "largest_cc_order = largest_cc.order()\n",
    "print((\"Largest connected component order (number of nodes): \" + str(largest_cc_order) + \n",
    "      \" ({0:.3f} of whole graph)\").format(largest_cc_order / G_order))\n",
    "print(\"Largest connected component size (number of edges): \" + str(largest_cc_size) + \n",
    "      \" ({0:.3f} of whole graph)\".format(largest_cc_size / G_size))"
   ]
  },
  {
   "cell_type": "code",
   "execution_count": 35,
   "metadata": {
    "collapsed": true
   },
   "outputs": [
    {
     "name": "stdout",
     "output_type": "stream",
     "text": [
      "-0.0595577253911\n"
     ]
    },
    {
     "name": "stdout",
     "output_type": "stream",
     "text": [
      "-0.0595577253911\n"
     ]
    }
   ],
   "source": [
    "print(str(nx.degree_assortativity_coefficient(largest_cc)))\n",
    "print(str(nx.degree_pearson_correlation_coefficient(largest_cc)))\n",
    "avg_deg_conn = nx.average_degree_connectivity(largest_cc)"
   ]
  },
  {
   "cell_type": "code",
   "execution_count": 46,
   "metadata": {},
   "outputs": [
    {
     "name": "stdout",
     "output_type": "stream",
     "text": [
      "Pearson's correlation coefficient: -0.353\n"
     ]
    },
    {
     "data": {
      "image/png": "[encoded data removed]",
      "text/plain": [
       "<matplotlib.figure.Figure at 0x1f52ffaf080>"
      ]
     },
     "metadata": {},
     "output_type": "display_data"
    }
   ],
   "source": [
    "import matplotlib.pyplot as plt\n",
    "import scipy as sp\n",
    "data_plot = sorted(avg_deg_conn.items())\n",
    "x, y = zip(*data_plot)\n",
    "\n",
    "print(\"Pearson's correlation coefficient: {corr:.3f}\".format(corr=sp.stats.pearsonr(x, y)[0]))\n",
    "\n",
    "plt.plot(x, y, '.')\n",
    "plt.show()"
   ]
  },
  {
   "cell_type": "code",
   "execution_count": 67,
   "metadata": {},
   "outputs": [
    {
     "name": "stdout",
     "output_type": "stream",
     "text": [
      "Pearson's correlation coefficient: -0.432\n"
     ]
    },
    {
     "data": {
      "image/png": "[encoded data removed]",
      "text/plain": [
       "<matplotlib.figure.Figure at 0x1f51e49b7f0>"
      ]
     },
     "metadata": {},
     "output_type": "display_data"
    }
   ],
   "source": [
    "import matplotlib.pyplot as plt\n",
    "import scipy as sp\n",
    "data_plot = sorted(avg_deg_conn.items())\n",
    "x, y = zip(*data_plot)\n",
    "x_no_outliers = x[:-1]\n",
    "y_no_outliers = y[:-1]\n",
    "\n",
    "print(\"Pearson's correlation coefficient: {corr:.3f}\".format(\n",
    "    corr=sp.stats.pearsonr(x_no_outliers, y_no_outliers)[0]))\n",
    "\n",
    "plt.plot(x_no_outliers, y_no_outliers, '.')\n",
    "plt.show()"
   ]
  },
  {
   "cell_type": "code",
   "execution_count": 70,
   "metadata": {},
   "outputs": [
    {
     "name": "stdout",
     "output_type": "stream",
     "text": [
      "Pearson's correlation coefficient: -0.776\n"
     ]
    },
    {
     "data": {
      "image/png": "[encoded data removed]",
      "text/plain": [
       "<matplotlib.figure.Figure at 0x1f535756a58>"
      ]
     },
     "metadata": {},
     "output_type": "display_data"
    }
   ],
   "source": [
    "from math import log\n",
    "x, y = zip(*data_plot)\n",
    "\n",
    "x_log = tuple(map(log, x))\n",
    "y_log = tuple(map(log, y))\n",
    "print(\"Pearson's correlation coefficient: {corr:.3f}\".format(\n",
    "    corr=sp.stats.pearsonr(x_log, y_log)[0]))\n",
    "\n",
    "plt.loglog(x, y, 'b.')\n",
    "plt.show()"
   ]
  },
  {
   "cell_type": "code",
   "execution_count": null,
   "metadata": {},
   "outputs": [],
   "source": [
    ""
   ]
  }
 ],
 "metadata": {
  "kernelspec": {
   "display_name": "Python 2",
   "language": "python",
   "name": "python2"
  },
  "language_info": {
   "codemirror_mode": {
    "name": "ipython",
    "version": 2
   },
   "file_extension": ".py",
   "mimetype": "text/x-python",
   "name": "python",
   "nbconvert_exporter": "python",
   "pygments_lexer": "ipython2",
   "version": "2.7.6"
  }
 },
 "nbformat": 4,
 "nbformat_minor": 0
}
